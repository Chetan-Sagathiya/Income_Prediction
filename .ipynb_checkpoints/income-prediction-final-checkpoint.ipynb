{
 "cells": [
  {
   "cell_type": "code",
   "execution_count": 2,
   "metadata": {
    "colab": {
     "base_uri": "https://localhost:8080/"
    },
    "executionInfo": {
     "elapsed": 104151,
     "status": "ok",
     "timestamp": 1612510765896,
     "user": {
      "displayName": "chetann sagathiya",
      "photoUrl": "https://lh3.googleusercontent.com/a-/AOh14GjG4uDDwdiEv3-kZr3_VvWsmzHo5UYKMPwvSxoA=s64",
      "userId": "07452161564351181635"
     },
     "user_tz": -330
    },
    "id": "bujOwJwh1OyJ",
    "outputId": "180d7dbf-1806-4016-89cf-4e7b1b52c65f"
   },
   "outputs": [
    {
     "name": "stdout",
     "output_type": "stream",
     "text": [
      "Mounted at /content/drive\n"
     ]
    }
   ],
   "source": [
    "from google.colab import drive\n",
    "drive.mount('/content/drive')"
   ]
  },
  {
   "cell_type": "code",
   "execution_count": 1,
   "metadata": {
    "executionInfo": {
     "elapsed": 96106,
     "status": "ok",
     "timestamp": 1612510765908,
     "user": {
      "displayName": "chetann sagathiya",
      "photoUrl": "https://lh3.googleusercontent.com/a-/AOh14GjG4uDDwdiEv3-kZr3_VvWsmzHo5UYKMPwvSxoA=s64",
      "userId": "07452161564351181635"
     },
     "user_tz": -330
    },
    "id": "sFZUpKoRgzfh"
   },
   "outputs": [],
   "source": [
    "import pandas as pd\n",
    "import seaborn as sns\n",
    "import matplotlib.pyplot as plt"
   ]
  },
  {
   "cell_type": "code",
   "execution_count": 6,
   "metadata": {
    "colab": {
     "base_uri": "https://localhost:8080/",
     "height": 394
    },
    "executionInfo": {
     "elapsed": 95331,
     "status": "ok",
     "timestamp": 1612510765910,
     "user": {
      "displayName": "chetann sagathiya",
      "photoUrl": "https://lh3.googleusercontent.com/a-/AOh14GjG4uDDwdiEv3-kZr3_VvWsmzHo5UYKMPwvSxoA=s64",
      "userId": "07452161564351181635"
     },
     "user_tz": -330
    },
    "id": "PqLIInCPgzfo",
    "outputId": "c98177dd-cf79-4789-a388-a3058a14f998"
   },
   "outputs": [
    {
     "data": {
      "text/html": [
       "<div>\n",
       "<style scoped>\n",
       "    .dataframe tbody tr th:only-of-type {\n",
       "        vertical-align: middle;\n",
       "    }\n",
       "\n",
       "    .dataframe tbody tr th {\n",
       "        vertical-align: top;\n",
       "    }\n",
       "\n",
       "    .dataframe thead th {\n",
       "        text-align: right;\n",
       "    }\n",
       "</style>\n",
       "<table border=\"1\" class=\"dataframe\">\n",
       "  <thead>\n",
       "    <tr style=\"text-align: right;\">\n",
       "      <th></th>\n",
       "      <th>age</th>\n",
       "      <th>workclass</th>\n",
       "      <th>fnlwgt</th>\n",
       "      <th>education</th>\n",
       "      <th>education-num</th>\n",
       "      <th>marital-status</th>\n",
       "      <th>occupation</th>\n",
       "      <th>relationship</th>\n",
       "      <th>race</th>\n",
       "      <th>sex</th>\n",
       "      <th>capital-gain</th>\n",
       "      <th>capital-loss</th>\n",
       "      <th>hours-per-week</th>\n",
       "      <th>native-country</th>\n",
       "      <th>Income</th>\n",
       "    </tr>\n",
       "  </thead>\n",
       "  <tbody>\n",
       "    <tr>\n",
       "      <th>0</th>\n",
       "      <td>39</td>\n",
       "      <td>State-gov</td>\n",
       "      <td>77516</td>\n",
       "      <td>Bachelors</td>\n",
       "      <td>13</td>\n",
       "      <td>Never-married</td>\n",
       "      <td>Adm-clerical</td>\n",
       "      <td>Not-in-family</td>\n",
       "      <td>White</td>\n",
       "      <td>Male</td>\n",
       "      <td>2174</td>\n",
       "      <td>0</td>\n",
       "      <td>40</td>\n",
       "      <td>United-States</td>\n",
       "      <td>&lt;=50K</td>\n",
       "    </tr>\n",
       "    <tr>\n",
       "      <th>1</th>\n",
       "      <td>50</td>\n",
       "      <td>Self-emp-not-inc</td>\n",
       "      <td>83311</td>\n",
       "      <td>Bachelors</td>\n",
       "      <td>13</td>\n",
       "      <td>Married-civ-spouse</td>\n",
       "      <td>Exec-managerial</td>\n",
       "      <td>Husband</td>\n",
       "      <td>White</td>\n",
       "      <td>Male</td>\n",
       "      <td>0</td>\n",
       "      <td>0</td>\n",
       "      <td>13</td>\n",
       "      <td>United-States</td>\n",
       "      <td>&lt;=50K</td>\n",
       "    </tr>\n",
       "    <tr>\n",
       "      <th>2</th>\n",
       "      <td>38</td>\n",
       "      <td>Private</td>\n",
       "      <td>215646</td>\n",
       "      <td>HS-grad</td>\n",
       "      <td>9</td>\n",
       "      <td>Divorced</td>\n",
       "      <td>Handlers-cleaners</td>\n",
       "      <td>Not-in-family</td>\n",
       "      <td>White</td>\n",
       "      <td>Male</td>\n",
       "      <td>0</td>\n",
       "      <td>0</td>\n",
       "      <td>40</td>\n",
       "      <td>United-States</td>\n",
       "      <td>&lt;=50K</td>\n",
       "    </tr>\n",
       "    <tr>\n",
       "      <th>3</th>\n",
       "      <td>53</td>\n",
       "      <td>Private</td>\n",
       "      <td>234721</td>\n",
       "      <td>11th</td>\n",
       "      <td>7</td>\n",
       "      <td>Married-civ-spouse</td>\n",
       "      <td>Handlers-cleaners</td>\n",
       "      <td>Husband</td>\n",
       "      <td>Black</td>\n",
       "      <td>Male</td>\n",
       "      <td>0</td>\n",
       "      <td>0</td>\n",
       "      <td>40</td>\n",
       "      <td>United-States</td>\n",
       "      <td>&lt;=50K</td>\n",
       "    </tr>\n",
       "    <tr>\n",
       "      <th>4</th>\n",
       "      <td>28</td>\n",
       "      <td>Private</td>\n",
       "      <td>338409</td>\n",
       "      <td>Bachelors</td>\n",
       "      <td>13</td>\n",
       "      <td>Married-civ-spouse</td>\n",
       "      <td>Prof-specialty</td>\n",
       "      <td>Wife</td>\n",
       "      <td>Black</td>\n",
       "      <td>Female</td>\n",
       "      <td>0</td>\n",
       "      <td>0</td>\n",
       "      <td>40</td>\n",
       "      <td>Cuba</td>\n",
       "      <td>&lt;=50K</td>\n",
       "    </tr>\n",
       "  </tbody>\n",
       "</table>\n",
       "</div>"
      ],
      "text/plain": [
       "   age          workclass  fnlwgt   education  education-num  \\\n",
       "0   39          State-gov   77516   Bachelors             13   \n",
       "1   50   Self-emp-not-inc   83311   Bachelors             13   \n",
       "2   38            Private  215646     HS-grad              9   \n",
       "3   53            Private  234721        11th              7   \n",
       "4   28            Private  338409   Bachelors             13   \n",
       "\n",
       "        marital-status          occupation    relationship    race      sex  \\\n",
       "0        Never-married        Adm-clerical   Not-in-family   White     Male   \n",
       "1   Married-civ-spouse     Exec-managerial         Husband   White     Male   \n",
       "2             Divorced   Handlers-cleaners   Not-in-family   White     Male   \n",
       "3   Married-civ-spouse   Handlers-cleaners         Husband   Black     Male   \n",
       "4   Married-civ-spouse      Prof-specialty            Wife   Black   Female   \n",
       "\n",
       "   capital-gain  capital-loss  hours-per-week  native-country  Income  \n",
       "0          2174             0              40   United-States   <=50K  \n",
       "1             0             0              13   United-States   <=50K  \n",
       "2             0             0              40   United-States   <=50K  \n",
       "3             0             0              40   United-States   <=50K  \n",
       "4             0             0              40            Cuba   <=50K  "
      ]
     },
     "execution_count": 6,
     "metadata": {},
     "output_type": "execute_result"
    }
   ],
   "source": [
    "data = pd.read_csv(\"incomeData.csv\")\n",
    "data.head()"
   ]
  },
  {
   "cell_type": "code",
   "execution_count": 7,
   "metadata": {
    "colab": {
     "base_uri": "https://localhost:8080/"
    },
    "executionInfo": {
     "elapsed": 3753,
     "status": "ok",
     "timestamp": 1612510769739,
     "user": {
      "displayName": "chetann sagathiya",
      "photoUrl": "https://lh3.googleusercontent.com/a-/AOh14GjG4uDDwdiEv3-kZr3_VvWsmzHo5UYKMPwvSxoA=s64",
      "userId": "07452161564351181635"
     },
     "user_tz": -330
    },
    "id": "pw4g0x3bgzfr",
    "outputId": "c1e81ea4-3b82-4fdd-89de-16441649c836"
   },
   "outputs": [
    {
     "data": {
      "text/plain": [
       "(32561, 15)"
      ]
     },
     "execution_count": 7,
     "metadata": {},
     "output_type": "execute_result"
    }
   ],
   "source": [
    "data.shape"
   ]
  },
  {
   "cell_type": "code",
   "execution_count": 8,
   "metadata": {
    "colab": {
     "base_uri": "https://localhost:8080/"
    },
    "executionInfo": {
     "elapsed": 3754,
     "status": "ok",
     "timestamp": 1612510769764,
     "user": {
      "displayName": "chetann sagathiya",
      "photoUrl": "https://lh3.googleusercontent.com/a-/AOh14GjG4uDDwdiEv3-kZr3_VvWsmzHo5UYKMPwvSxoA=s64",
      "userId": "07452161564351181635"
     },
     "user_tz": -330
    },
    "id": "jmO5vBgVgzfs",
    "outputId": "e13ddcce-21ac-494a-f5fb-19bcb918a726"
   },
   "outputs": [
    {
     "name": "stdout",
     "output_type": "stream",
     "text": [
      "<class 'pandas.core.frame.DataFrame'>\n",
      "RangeIndex: 32561 entries, 0 to 32560\n",
      "Data columns (total 15 columns):\n",
      " #   Column          Non-Null Count  Dtype \n",
      "---  ------          --------------  ----- \n",
      " 0   age             32561 non-null  int64 \n",
      " 1   workclass       32561 non-null  object\n",
      " 2   fnlwgt          32561 non-null  int64 \n",
      " 3   education       32561 non-null  object\n",
      " 4   education-num   32561 non-null  int64 \n",
      " 5   marital-status  32561 non-null  object\n",
      " 6   occupation      32561 non-null  object\n",
      " 7   relationship    32561 non-null  object\n",
      " 8   race            32561 non-null  object\n",
      " 9   sex             32561 non-null  object\n",
      " 10  capital-gain    32561 non-null  int64 \n",
      " 11  capital-loss    32561 non-null  int64 \n",
      " 12  hours-per-week  32561 non-null  int64 \n",
      " 13  native-country  32561 non-null  object\n",
      " 14  Income          32561 non-null  object\n",
      "dtypes: int64(6), object(9)\n",
      "memory usage: 2.6+ MB\n"
     ]
    }
   ],
   "source": [
    "data.info()"
   ]
  },
  {
   "cell_type": "markdown",
   "metadata": {
    "id": "j-sBcJ03gzft"
   },
   "source": [
    "## first of all let's handle missing data"
   ]
  },
  {
   "cell_type": "code",
   "execution_count": 9,
   "metadata": {
    "colab": {
     "base_uri": "https://localhost:8080/"
    },
    "executionInfo": {
     "elapsed": 3705,
     "status": "ok",
     "timestamp": 1612510769766,
     "user": {
      "displayName": "chetann sagathiya",
      "photoUrl": "https://lh3.googleusercontent.com/a-/AOh14GjG4uDDwdiEv3-kZr3_VvWsmzHo5UYKMPwvSxoA=s64",
      "userId": "07452161564351181635"
     },
     "user_tz": -330
    },
    "id": "xK255O37gzfu",
    "outputId": "14ff11e5-58ef-4749-980b-903a7d9d0d92"
   },
   "outputs": [
    {
     "data": {
      "text/plain": [
       "age               0\n",
       "workclass         0\n",
       "fnlwgt            0\n",
       "education         0\n",
       "education-num     0\n",
       "marital-status    0\n",
       "occupation        0\n",
       "relationship      0\n",
       "race              0\n",
       "sex               0\n",
       "capital-gain      0\n",
       "capital-loss      0\n",
       "hours-per-week    0\n",
       "native-country    0\n",
       "Income            0\n",
       "dtype: int64"
      ]
     },
     "execution_count": 9,
     "metadata": {},
     "output_type": "execute_result"
    }
   ],
   "source": [
    "data.isnull().sum()"
   ]
  },
  {
   "cell_type": "code",
   "execution_count": 10,
   "metadata": {
    "colab": {
     "base_uri": "https://localhost:8080/"
    },
    "executionInfo": {
     "elapsed": 3692,
     "status": "ok",
     "timestamp": 1612510769768,
     "user": {
      "displayName": "chetann sagathiya",
      "photoUrl": "https://lh3.googleusercontent.com/a-/AOh14GjG4uDDwdiEv3-kZr3_VvWsmzHo5UYKMPwvSxoA=s64",
      "userId": "07452161564351181635"
     },
     "user_tz": -330
    },
    "id": "5HxvuFZvgzfv",
    "outputId": "e3c10b6a-0b7e-4275-f2e7-53c38fc97308"
   },
   "outputs": [
    {
     "data": {
      "text/plain": [
       "array([' State-gov', ' Self-emp-not-inc', ' Private', ' Federal-gov',\n",
       "       ' Local-gov', ' ?', ' Self-emp-inc', ' Without-pay',\n",
       "       ' Never-worked'], dtype=object)"
      ]
     },
     "execution_count": 10,
     "metadata": {},
     "output_type": "execute_result"
    }
   ],
   "source": [
    "data['workclass'].unique()"
   ]
  },
  {
   "cell_type": "markdown",
   "metadata": {
    "id": "2dKiXE-1gzfw"
   },
   "source": [
    "## we might have many '?' values in data now we need to handle it"
   ]
  },
  {
   "cell_type": "code",
   "execution_count": 11,
   "metadata": {
    "colab": {
     "base_uri": "https://localhost:8080/"
    },
    "executionInfo": {
     "elapsed": 3678,
     "status": "ok",
     "timestamp": 1612510769769,
     "user": {
      "displayName": "chetann sagathiya",
      "photoUrl": "https://lh3.googleusercontent.com/a-/AOh14GjG4uDDwdiEv3-kZr3_VvWsmzHo5UYKMPwvSxoA=s64",
      "userId": "07452161564351181635"
     },
     "user_tz": -330
    },
    "id": "epfUWRlegzfw",
    "outputId": "c769143c-ae1e-4a0b-910e-3315b9bda019"
   },
   "outputs": [
    {
     "data": {
      "text/plain": [
       "age                  0\n",
       "workclass         1836\n",
       "fnlwgt               0\n",
       "education            0\n",
       "education-num        0\n",
       "marital-status       0\n",
       "occupation        1843\n",
       "relationship         0\n",
       "race                 0\n",
       "sex                  0\n",
       "capital-gain         0\n",
       "capital-loss         0\n",
       "hours-per-week       0\n",
       "native-country     583\n",
       "Income               0\n",
       "dtype: int64"
      ]
     },
     "execution_count": 11,
     "metadata": {},
     "output_type": "execute_result"
    }
   ],
   "source": [
    "data.isin([' ?']).sum()"
   ]
  },
  {
   "cell_type": "markdown",
   "metadata": {
    "id": "CmnO4ci3gzfx"
   },
   "source": [
    "## remove all rows in which '?' value is there"
   ]
  },
  {
   "cell_type": "code",
   "execution_count": 12,
   "metadata": {
    "colab": {
     "base_uri": "https://localhost:8080/"
    },
    "executionInfo": {
     "elapsed": 3663,
     "status": "ok",
     "timestamp": 1612510769771,
     "user": {
      "displayName": "chetann sagathiya",
      "photoUrl": "https://lh3.googleusercontent.com/a-/AOh14GjG4uDDwdiEv3-kZr3_VvWsmzHo5UYKMPwvSxoA=s64",
      "userId": "07452161564351181635"
     },
     "user_tz": -330
    },
    "id": "4GYCfXshgzfy",
    "outputId": "e61154bf-59a3-4c7e-aaf3-518fee07006b"
   },
   "outputs": [
    {
     "data": {
      "text/plain": [
       "(30162, 15)"
      ]
     },
     "execution_count": 12,
     "metadata": {},
     "output_type": "execute_result"
    }
   ],
   "source": [
    "data = data.drop(data[data['workclass'] == ' ?'].index)\n",
    "data = data.drop(data[data['occupation'] == ' ?'].index)\n",
    "data = data.drop(data[data['native-country'] == ' ?'].index)\n",
    "data.shape"
   ]
  },
  {
   "cell_type": "markdown",
   "metadata": {
    "id": "Bijdq6UCgzfz"
   },
   "source": [
    "## now reindexing"
   ]
  },
  {
   "cell_type": "code",
   "execution_count": 13,
   "metadata": {
    "executionInfo": {
     "elapsed": 3653,
     "status": "ok",
     "timestamp": 1612510769777,
     "user": {
      "displayName": "chetann sagathiya",
      "photoUrl": "https://lh3.googleusercontent.com/a-/AOh14GjG4uDDwdiEv3-kZr3_VvWsmzHo5UYKMPwvSxoA=s64",
      "userId": "07452161564351181635"
     },
     "user_tz": -330
    },
    "id": "t62rPUeWgzfz"
   },
   "outputs": [],
   "source": [
    "data.reset_index(drop=True, inplace=True)"
   ]
  },
  {
   "cell_type": "code",
   "execution_count": 14,
   "metadata": {
    "colab": {
     "base_uri": "https://localhost:8080/",
     "height": 394
    },
    "executionInfo": {
     "elapsed": 3633,
     "status": "ok",
     "timestamp": 1612510769778,
     "user": {
      "displayName": "chetann sagathiya",
      "photoUrl": "https://lh3.googleusercontent.com/a-/AOh14GjG4uDDwdiEv3-kZr3_VvWsmzHo5UYKMPwvSxoA=s64",
      "userId": "07452161564351181635"
     },
     "user_tz": -330
    },
    "id": "f7Ng2r4pgzf0",
    "outputId": "2841c26b-d938-4265-e61f-97b74cc88217"
   },
   "outputs": [
    {
     "data": {
      "text/html": [
       "<div>\n",
       "<style scoped>\n",
       "    .dataframe tbody tr th:only-of-type {\n",
       "        vertical-align: middle;\n",
       "    }\n",
       "\n",
       "    .dataframe tbody tr th {\n",
       "        vertical-align: top;\n",
       "    }\n",
       "\n",
       "    .dataframe thead th {\n",
       "        text-align: right;\n",
       "    }\n",
       "</style>\n",
       "<table border=\"1\" class=\"dataframe\">\n",
       "  <thead>\n",
       "    <tr style=\"text-align: right;\">\n",
       "      <th></th>\n",
       "      <th>age</th>\n",
       "      <th>workclass</th>\n",
       "      <th>fnlwgt</th>\n",
       "      <th>education</th>\n",
       "      <th>education-num</th>\n",
       "      <th>marital-status</th>\n",
       "      <th>occupation</th>\n",
       "      <th>relationship</th>\n",
       "      <th>race</th>\n",
       "      <th>sex</th>\n",
       "      <th>capital-gain</th>\n",
       "      <th>capital-loss</th>\n",
       "      <th>hours-per-week</th>\n",
       "      <th>native-country</th>\n",
       "      <th>Income</th>\n",
       "    </tr>\n",
       "  </thead>\n",
       "  <tbody>\n",
       "    <tr>\n",
       "      <th>30157</th>\n",
       "      <td>27</td>\n",
       "      <td>Private</td>\n",
       "      <td>257302</td>\n",
       "      <td>Assoc-acdm</td>\n",
       "      <td>12</td>\n",
       "      <td>Married-civ-spouse</td>\n",
       "      <td>Tech-support</td>\n",
       "      <td>Wife</td>\n",
       "      <td>White</td>\n",
       "      <td>Female</td>\n",
       "      <td>0</td>\n",
       "      <td>0</td>\n",
       "      <td>38</td>\n",
       "      <td>United-States</td>\n",
       "      <td>&lt;=50K</td>\n",
       "    </tr>\n",
       "    <tr>\n",
       "      <th>30158</th>\n",
       "      <td>40</td>\n",
       "      <td>Private</td>\n",
       "      <td>154374</td>\n",
       "      <td>HS-grad</td>\n",
       "      <td>9</td>\n",
       "      <td>Married-civ-spouse</td>\n",
       "      <td>Machine-op-inspct</td>\n",
       "      <td>Husband</td>\n",
       "      <td>White</td>\n",
       "      <td>Male</td>\n",
       "      <td>0</td>\n",
       "      <td>0</td>\n",
       "      <td>40</td>\n",
       "      <td>United-States</td>\n",
       "      <td>&gt;50K</td>\n",
       "    </tr>\n",
       "    <tr>\n",
       "      <th>30159</th>\n",
       "      <td>58</td>\n",
       "      <td>Private</td>\n",
       "      <td>151910</td>\n",
       "      <td>HS-grad</td>\n",
       "      <td>9</td>\n",
       "      <td>Widowed</td>\n",
       "      <td>Adm-clerical</td>\n",
       "      <td>Unmarried</td>\n",
       "      <td>White</td>\n",
       "      <td>Female</td>\n",
       "      <td>0</td>\n",
       "      <td>0</td>\n",
       "      <td>40</td>\n",
       "      <td>United-States</td>\n",
       "      <td>&lt;=50K</td>\n",
       "    </tr>\n",
       "    <tr>\n",
       "      <th>30160</th>\n",
       "      <td>22</td>\n",
       "      <td>Private</td>\n",
       "      <td>201490</td>\n",
       "      <td>HS-grad</td>\n",
       "      <td>9</td>\n",
       "      <td>Never-married</td>\n",
       "      <td>Adm-clerical</td>\n",
       "      <td>Own-child</td>\n",
       "      <td>White</td>\n",
       "      <td>Male</td>\n",
       "      <td>0</td>\n",
       "      <td>0</td>\n",
       "      <td>20</td>\n",
       "      <td>United-States</td>\n",
       "      <td>&lt;=50K</td>\n",
       "    </tr>\n",
       "    <tr>\n",
       "      <th>30161</th>\n",
       "      <td>52</td>\n",
       "      <td>Self-emp-inc</td>\n",
       "      <td>287927</td>\n",
       "      <td>HS-grad</td>\n",
       "      <td>9</td>\n",
       "      <td>Married-civ-spouse</td>\n",
       "      <td>Exec-managerial</td>\n",
       "      <td>Wife</td>\n",
       "      <td>White</td>\n",
       "      <td>Female</td>\n",
       "      <td>15024</td>\n",
       "      <td>0</td>\n",
       "      <td>40</td>\n",
       "      <td>United-States</td>\n",
       "      <td>&gt;50K</td>\n",
       "    </tr>\n",
       "  </tbody>\n",
       "</table>\n",
       "</div>"
      ],
      "text/plain": [
       "       age      workclass  fnlwgt    education  education-num  \\\n",
       "30157   27        Private  257302   Assoc-acdm             12   \n",
       "30158   40        Private  154374      HS-grad              9   \n",
       "30159   58        Private  151910      HS-grad              9   \n",
       "30160   22        Private  201490      HS-grad              9   \n",
       "30161   52   Self-emp-inc  287927      HS-grad              9   \n",
       "\n",
       "            marital-status          occupation relationship    race      sex  \\\n",
       "30157   Married-civ-spouse        Tech-support         Wife   White   Female   \n",
       "30158   Married-civ-spouse   Machine-op-inspct      Husband   White     Male   \n",
       "30159              Widowed        Adm-clerical    Unmarried   White   Female   \n",
       "30160        Never-married        Adm-clerical    Own-child   White     Male   \n",
       "30161   Married-civ-spouse     Exec-managerial         Wife   White   Female   \n",
       "\n",
       "       capital-gain  capital-loss  hours-per-week  native-country  Income  \n",
       "30157             0             0              38   United-States   <=50K  \n",
       "30158             0             0              40   United-States    >50K  \n",
       "30159             0             0              40   United-States   <=50K  \n",
       "30160             0             0              20   United-States   <=50K  \n",
       "30161         15024             0              40   United-States    >50K  "
      ]
     },
     "execution_count": 14,
     "metadata": {},
     "output_type": "execute_result"
    }
   ],
   "source": [
    "data.tail()"
   ]
  },
  {
   "cell_type": "markdown",
   "metadata": {
    "id": "10YzA3Legzf1"
   },
   "source": [
    "## handling nominal categorical data columns"
   ]
  },
  {
   "cell_type": "code",
   "execution_count": 15,
   "metadata": {
    "colab": {
     "base_uri": "https://localhost:8080/",
     "height": 360
    },
    "executionInfo": {
     "elapsed": 3971,
     "status": "ok",
     "timestamp": 1612510770211,
     "user": {
      "displayName": "chetann sagathiya",
      "photoUrl": "https://lh3.googleusercontent.com/a-/AOh14GjG4uDDwdiEv3-kZr3_VvWsmzHo5UYKMPwvSxoA=s64",
      "userId": "07452161564351181635"
     },
     "user_tz": -330
    },
    "id": "XqkXoAC4gzf2",
    "outputId": "203f5996-ab16-4da2-c6c2-bc79e4524616"
   },
   "outputs": [
    {
     "data": {
      "text/html": [
       "<div>\n",
       "<style scoped>\n",
       "    .dataframe tbody tr th:only-of-type {\n",
       "        vertical-align: middle;\n",
       "    }\n",
       "\n",
       "    .dataframe tbody tr th {\n",
       "        vertical-align: top;\n",
       "    }\n",
       "\n",
       "    .dataframe thead th {\n",
       "        text-align: right;\n",
       "    }\n",
       "</style>\n",
       "<table border=\"1\" class=\"dataframe\">\n",
       "  <thead>\n",
       "    <tr style=\"text-align: right;\">\n",
       "      <th></th>\n",
       "      <th>age</th>\n",
       "      <th>fnlwgt</th>\n",
       "      <th>education</th>\n",
       "      <th>education-num</th>\n",
       "      <th>race</th>\n",
       "      <th>capital-gain</th>\n",
       "      <th>capital-loss</th>\n",
       "      <th>hours-per-week</th>\n",
       "      <th>native-country</th>\n",
       "      <th>Income</th>\n",
       "      <th>...</th>\n",
       "      <th>occupation_ Protective-serv</th>\n",
       "      <th>occupation_ Sales</th>\n",
       "      <th>occupation_ Tech-support</th>\n",
       "      <th>occupation_ Transport-moving</th>\n",
       "      <th>relationship_ Not-in-family</th>\n",
       "      <th>relationship_ Other-relative</th>\n",
       "      <th>relationship_ Own-child</th>\n",
       "      <th>relationship_ Unmarried</th>\n",
       "      <th>relationship_ Wife</th>\n",
       "      <th>sex_ Male</th>\n",
       "    </tr>\n",
       "  </thead>\n",
       "  <tbody>\n",
       "    <tr>\n",
       "      <th>0</th>\n",
       "      <td>39</td>\n",
       "      <td>77516</td>\n",
       "      <td>Bachelors</td>\n",
       "      <td>13</td>\n",
       "      <td>White</td>\n",
       "      <td>2174</td>\n",
       "      <td>0</td>\n",
       "      <td>40</td>\n",
       "      <td>United-States</td>\n",
       "      <td>&lt;=50K</td>\n",
       "      <td>...</td>\n",
       "      <td>0</td>\n",
       "      <td>0</td>\n",
       "      <td>0</td>\n",
       "      <td>0</td>\n",
       "      <td>1</td>\n",
       "      <td>0</td>\n",
       "      <td>0</td>\n",
       "      <td>0</td>\n",
       "      <td>0</td>\n",
       "      <td>1</td>\n",
       "    </tr>\n",
       "    <tr>\n",
       "      <th>1</th>\n",
       "      <td>50</td>\n",
       "      <td>83311</td>\n",
       "      <td>Bachelors</td>\n",
       "      <td>13</td>\n",
       "      <td>White</td>\n",
       "      <td>0</td>\n",
       "      <td>0</td>\n",
       "      <td>13</td>\n",
       "      <td>United-States</td>\n",
       "      <td>&lt;=50K</td>\n",
       "      <td>...</td>\n",
       "      <td>0</td>\n",
       "      <td>0</td>\n",
       "      <td>0</td>\n",
       "      <td>0</td>\n",
       "      <td>0</td>\n",
       "      <td>0</td>\n",
       "      <td>0</td>\n",
       "      <td>0</td>\n",
       "      <td>0</td>\n",
       "      <td>1</td>\n",
       "    </tr>\n",
       "    <tr>\n",
       "      <th>2</th>\n",
       "      <td>38</td>\n",
       "      <td>215646</td>\n",
       "      <td>HS-grad</td>\n",
       "      <td>9</td>\n",
       "      <td>White</td>\n",
       "      <td>0</td>\n",
       "      <td>0</td>\n",
       "      <td>40</td>\n",
       "      <td>United-States</td>\n",
       "      <td>&lt;=50K</td>\n",
       "      <td>...</td>\n",
       "      <td>0</td>\n",
       "      <td>0</td>\n",
       "      <td>0</td>\n",
       "      <td>0</td>\n",
       "      <td>1</td>\n",
       "      <td>0</td>\n",
       "      <td>0</td>\n",
       "      <td>0</td>\n",
       "      <td>0</td>\n",
       "      <td>1</td>\n",
       "    </tr>\n",
       "    <tr>\n",
       "      <th>3</th>\n",
       "      <td>53</td>\n",
       "      <td>234721</td>\n",
       "      <td>11th</td>\n",
       "      <td>7</td>\n",
       "      <td>Black</td>\n",
       "      <td>0</td>\n",
       "      <td>0</td>\n",
       "      <td>40</td>\n",
       "      <td>United-States</td>\n",
       "      <td>&lt;=50K</td>\n",
       "      <td>...</td>\n",
       "      <td>0</td>\n",
       "      <td>0</td>\n",
       "      <td>0</td>\n",
       "      <td>0</td>\n",
       "      <td>0</td>\n",
       "      <td>0</td>\n",
       "      <td>0</td>\n",
       "      <td>0</td>\n",
       "      <td>0</td>\n",
       "      <td>1</td>\n",
       "    </tr>\n",
       "    <tr>\n",
       "      <th>4</th>\n",
       "      <td>28</td>\n",
       "      <td>338409</td>\n",
       "      <td>Bachelors</td>\n",
       "      <td>13</td>\n",
       "      <td>Black</td>\n",
       "      <td>0</td>\n",
       "      <td>0</td>\n",
       "      <td>40</td>\n",
       "      <td>Cuba</td>\n",
       "      <td>&lt;=50K</td>\n",
       "      <td>...</td>\n",
       "      <td>0</td>\n",
       "      <td>0</td>\n",
       "      <td>0</td>\n",
       "      <td>0</td>\n",
       "      <td>0</td>\n",
       "      <td>0</td>\n",
       "      <td>0</td>\n",
       "      <td>0</td>\n",
       "      <td>1</td>\n",
       "      <td>0</td>\n",
       "    </tr>\n",
       "  </tbody>\n",
       "</table>\n",
       "<p>5 rows × 41 columns</p>\n",
       "</div>"
      ],
      "text/plain": [
       "   age  fnlwgt   education  education-num    race  capital-gain  capital-loss  \\\n",
       "0   39   77516   Bachelors             13   White          2174             0   \n",
       "1   50   83311   Bachelors             13   White             0             0   \n",
       "2   38  215646     HS-grad              9   White             0             0   \n",
       "3   53  234721        11th              7   Black             0             0   \n",
       "4   28  338409   Bachelors             13   Black             0             0   \n",
       "\n",
       "   hours-per-week  native-country  Income  ...  occupation_ Protective-serv  \\\n",
       "0              40   United-States   <=50K  ...                            0   \n",
       "1              13   United-States   <=50K  ...                            0   \n",
       "2              40   United-States   <=50K  ...                            0   \n",
       "3              40   United-States   <=50K  ...                            0   \n",
       "4              40            Cuba   <=50K  ...                            0   \n",
       "\n",
       "   occupation_ Sales  occupation_ Tech-support  occupation_ Transport-moving  \\\n",
       "0                  0                         0                             0   \n",
       "1                  0                         0                             0   \n",
       "2                  0                         0                             0   \n",
       "3                  0                         0                             0   \n",
       "4                  0                         0                             0   \n",
       "\n",
       "   relationship_ Not-in-family  relationship_ Other-relative  \\\n",
       "0                            1                             0   \n",
       "1                            0                             0   \n",
       "2                            1                             0   \n",
       "3                            0                             0   \n",
       "4                            0                             0   \n",
       "\n",
       "   relationship_ Own-child  relationship_ Unmarried  relationship_ Wife  \\\n",
       "0                        0                        0                   0   \n",
       "1                        0                        0                   0   \n",
       "2                        0                        0                   0   \n",
       "3                        0                        0                   0   \n",
       "4                        0                        0                   1   \n",
       "\n",
       "   sex_ Male  \n",
       "0          1  \n",
       "1          1  \n",
       "2          1  \n",
       "3          1  \n",
       "4          0  \n",
       "\n",
       "[5 rows x 41 columns]"
      ]
     },
     "execution_count": 15,
     "metadata": {},
     "output_type": "execute_result"
    }
   ],
   "source": [
    "data = pd.get_dummies(data, columns=['workclass', 'marital-status', 'occupation', 'relationship', 'sex'], drop_first=True)\n",
    "data.head()"
   ]
  },
  {
   "cell_type": "markdown",
   "metadata": {
    "id": "mvAZWcUugzf3"
   },
   "source": [
    "## education columns we can consider it is ordinal categoricald data so we can handle it that way"
   ]
  },
  {
   "cell_type": "code",
   "execution_count": 16,
   "metadata": {
    "colab": {
     "base_uri": "https://localhost:8080/"
    },
    "executionInfo": {
     "elapsed": 3946,
     "status": "ok",
     "timestamp": 1612510770213,
     "user": {
      "displayName": "chetann sagathiya",
      "photoUrl": "https://lh3.googleusercontent.com/a-/AOh14GjG4uDDwdiEv3-kZr3_VvWsmzHo5UYKMPwvSxoA=s64",
      "userId": "07452161564351181635"
     },
     "user_tz": -330
    },
    "id": "t40xMx9bgzf3",
    "outputId": "d1dd9bb0-1f38-4f80-9178-aefa773274aa"
   },
   "outputs": [
    {
     "data": {
      "text/plain": [
       "(30162, 41)"
      ]
     },
     "execution_count": 16,
     "metadata": {},
     "output_type": "execute_result"
    }
   ],
   "source": [
    "data['education'] = data['education'].map({' Preschool':1, ' 1st-4th':2, ' 5th-6th':3, ' 7th-8th':4, \n",
    "                               ' 9th':5, ' 10th':6, ' 11th':7, ' 12th':8, ' HS-grad':9,\n",
    "                               ' Prof-school':10, ' Assoc-acdm':11, ' Assoc-voc':12, ' Some-college':13,\n",
    "                               ' Bachelors':14, ' Masters':15, ' Doctorate':16,\n",
    "                              })\n",
    "data.shape"
   ]
  },
  {
   "cell_type": "markdown",
   "metadata": {
    "id": "oqMcz1xrgzf4"
   },
   "source": [
    "## now replace >50k and <50k data with 0 and 1"
   ]
  },
  {
   "cell_type": "code",
   "execution_count": 17,
   "metadata": {
    "executionInfo": {
     "elapsed": 3936,
     "status": "ok",
     "timestamp": 1612510770216,
     "user": {
      "displayName": "chetann sagathiya",
      "photoUrl": "https://lh3.googleusercontent.com/a-/AOh14GjG4uDDwdiEv3-kZr3_VvWsmzHo5UYKMPwvSxoA=s64",
      "userId": "07452161564351181635"
     },
     "user_tz": -330
    },
    "id": "PfkjBdqWgzf5"
   },
   "outputs": [],
   "source": [
    "data['Income'] = data['Income'].map({' <=50K': 0, ' >50K':1})"
   ]
  },
  {
   "cell_type": "code",
   "execution_count": 18,
   "metadata": {
    "colab": {
     "base_uri": "https://localhost:8080/",
     "height": 233
    },
    "executionInfo": {
     "elapsed": 3910,
     "status": "ok",
     "timestamp": 1612510770217,
     "user": {
      "displayName": "chetann sagathiya",
      "photoUrl": "https://lh3.googleusercontent.com/a-/AOh14GjG4uDDwdiEv3-kZr3_VvWsmzHo5UYKMPwvSxoA=s64",
      "userId": "07452161564351181635"
     },
     "user_tz": -330
    },
    "id": "QCJaIq0Vgzf5",
    "outputId": "27c4ddd1-6e92-4884-fafe-88f8568741ef"
   },
   "outputs": [
    {
     "data": {
      "text/html": [
       "<div>\n",
       "<style scoped>\n",
       "    .dataframe tbody tr th:only-of-type {\n",
       "        vertical-align: middle;\n",
       "    }\n",
       "\n",
       "    .dataframe tbody tr th {\n",
       "        vertical-align: top;\n",
       "    }\n",
       "\n",
       "    .dataframe thead th {\n",
       "        text-align: right;\n",
       "    }\n",
       "</style>\n",
       "<table border=\"1\" class=\"dataframe\">\n",
       "  <thead>\n",
       "    <tr style=\"text-align: right;\">\n",
       "      <th></th>\n",
       "      <th>age</th>\n",
       "      <th>fnlwgt</th>\n",
       "      <th>education</th>\n",
       "      <th>education-num</th>\n",
       "      <th>race</th>\n",
       "      <th>capital-gain</th>\n",
       "      <th>capital-loss</th>\n",
       "      <th>hours-per-week</th>\n",
       "      <th>native-country</th>\n",
       "      <th>Income</th>\n",
       "      <th>...</th>\n",
       "      <th>occupation_ Protective-serv</th>\n",
       "      <th>occupation_ Sales</th>\n",
       "      <th>occupation_ Tech-support</th>\n",
       "      <th>occupation_ Transport-moving</th>\n",
       "      <th>relationship_ Not-in-family</th>\n",
       "      <th>relationship_ Other-relative</th>\n",
       "      <th>relationship_ Own-child</th>\n",
       "      <th>relationship_ Unmarried</th>\n",
       "      <th>relationship_ Wife</th>\n",
       "      <th>sex_ Male</th>\n",
       "    </tr>\n",
       "  </thead>\n",
       "  <tbody>\n",
       "    <tr>\n",
       "      <th>0</th>\n",
       "      <td>39</td>\n",
       "      <td>77516</td>\n",
       "      <td>14</td>\n",
       "      <td>13</td>\n",
       "      <td>White</td>\n",
       "      <td>2174</td>\n",
       "      <td>0</td>\n",
       "      <td>40</td>\n",
       "      <td>United-States</td>\n",
       "      <td>0</td>\n",
       "      <td>...</td>\n",
       "      <td>0</td>\n",
       "      <td>0</td>\n",
       "      <td>0</td>\n",
       "      <td>0</td>\n",
       "      <td>1</td>\n",
       "      <td>0</td>\n",
       "      <td>0</td>\n",
       "      <td>0</td>\n",
       "      <td>0</td>\n",
       "      <td>1</td>\n",
       "    </tr>\n",
       "    <tr>\n",
       "      <th>1</th>\n",
       "      <td>50</td>\n",
       "      <td>83311</td>\n",
       "      <td>14</td>\n",
       "      <td>13</td>\n",
       "      <td>White</td>\n",
       "      <td>0</td>\n",
       "      <td>0</td>\n",
       "      <td>13</td>\n",
       "      <td>United-States</td>\n",
       "      <td>0</td>\n",
       "      <td>...</td>\n",
       "      <td>0</td>\n",
       "      <td>0</td>\n",
       "      <td>0</td>\n",
       "      <td>0</td>\n",
       "      <td>0</td>\n",
       "      <td>0</td>\n",
       "      <td>0</td>\n",
       "      <td>0</td>\n",
       "      <td>0</td>\n",
       "      <td>1</td>\n",
       "    </tr>\n",
       "  </tbody>\n",
       "</table>\n",
       "<p>2 rows × 41 columns</p>\n",
       "</div>"
      ],
      "text/plain": [
       "   age  fnlwgt  education  education-num    race  capital-gain  capital-loss  \\\n",
       "0   39   77516         14             13   White          2174             0   \n",
       "1   50   83311         14             13   White             0             0   \n",
       "\n",
       "   hours-per-week  native-country  Income  ...  occupation_ Protective-serv  \\\n",
       "0              40   United-States       0  ...                            0   \n",
       "1              13   United-States       0  ...                            0   \n",
       "\n",
       "   occupation_ Sales  occupation_ Tech-support  occupation_ Transport-moving  \\\n",
       "0                  0                         0                             0   \n",
       "1                  0                         0                             0   \n",
       "\n",
       "   relationship_ Not-in-family  relationship_ Other-relative  \\\n",
       "0                            1                             0   \n",
       "1                            0                             0   \n",
       "\n",
       "   relationship_ Own-child  relationship_ Unmarried  relationship_ Wife  \\\n",
       "0                        0                        0                   0   \n",
       "1                        0                        0                   0   \n",
       "\n",
       "   sex_ Male  \n",
       "0          1  \n",
       "1          1  \n",
       "\n",
       "[2 rows x 41 columns]"
      ]
     },
     "execution_count": 18,
     "metadata": {},
     "output_type": "execute_result"
    }
   ],
   "source": [
    "data.head(2)"
   ]
  },
  {
   "cell_type": "markdown",
   "metadata": {
    "id": "a2T8Lc8igzf6"
   },
   "source": [
    "## removing not used columns"
   ]
  },
  {
   "cell_type": "code",
   "execution_count": 19,
   "metadata": {
    "executionInfo": {
     "elapsed": 3899,
     "status": "ok",
     "timestamp": 1612510770219,
     "user": {
      "displayName": "chetann sagathiya",
      "photoUrl": "https://lh3.googleusercontent.com/a-/AOh14GjG4uDDwdiEv3-kZr3_VvWsmzHo5UYKMPwvSxoA=s64",
      "userId": "07452161564351181635"
     },
     "user_tz": -330
    },
    "id": "TYY9qAF2gzf6"
   },
   "outputs": [],
   "source": [
    "data = data.drop(columns=['fnlwgt', 'race', 'capital-gain', 'capital-loss', 'native-country'])"
   ]
  },
  {
   "cell_type": "code",
   "execution_count": 20,
   "metadata": {
    "executionInfo": {
     "elapsed": 3890,
     "status": "ok",
     "timestamp": 1612510770222,
     "user": {
      "displayName": "chetann sagathiya",
      "photoUrl": "https://lh3.googleusercontent.com/a-/AOh14GjG4uDDwdiEv3-kZr3_VvWsmzHo5UYKMPwvSxoA=s64",
      "userId": "07452161564351181635"
     },
     "user_tz": -330
    },
    "id": "vXQ2gqZEgzf7"
   },
   "outputs": [],
   "source": [
    "## spitting X and Y values\n",
    "X = data.drop('Income', axis=1)\n",
    "y = data['Income']"
   ]
  },
  {
   "cell_type": "markdown",
   "metadata": {
    "id": "HFzuq-N7gzf9"
   },
   "source": [
    "## data seems imbalanced we need to make them balanced"
   ]
  },
  {
   "cell_type": "code",
   "execution_count": 21,
   "metadata": {
    "colab": {
     "base_uri": "https://localhost:8080/"
    },
    "executionInfo": {
     "elapsed": 3283,
     "status": "ok",
     "timestamp": 1612510771212,
     "user": {
      "displayName": "chetann sagathiya",
      "photoUrl": "https://lh3.googleusercontent.com/a-/AOh14GjG4uDDwdiEv3-kZr3_VvWsmzHo5UYKMPwvSxoA=s64",
      "userId": "07452161564351181635"
     },
     "user_tz": -330
    },
    "id": "aEfNk1vigzf-",
    "outputId": "ed0ddd22-54dd-43a6-b9ec-04334748ce57"
   },
   "outputs": [],
   "source": [
    "from imblearn.combine import SMOTETomek\n",
    "#smotetomek does both downsampling and upsampling of class"
   ]
  },
  {
   "cell_type": "code",
   "execution_count": 22,
   "metadata": {
    "colab": {
     "base_uri": "https://localhost:8080/"
    },
    "executionInfo": {
     "elapsed": 5280,
     "status": "ok",
     "timestamp": 1612510773362,
     "user": {
      "displayName": "chetann sagathiya",
      "photoUrl": "https://lh3.googleusercontent.com/a-/AOh14GjG4uDDwdiEv3-kZr3_VvWsmzHo5UYKMPwvSxoA=s64",
      "userId": "07452161564351181635"
     },
     "user_tz": -330
    },
    "id": "kxNq2T1Xgzf-",
    "outputId": "8e5e8b58-9ff1-4a5f-fb07-71f2d5581e6f"
   },
   "outputs": [
    {
     "name": "stderr",
     "output_type": "stream",
     "text": [
      "c:\\users\\abc\\appdata\\local\\programs\\python\\python37-32\\lib\\site-packages\\imblearn\\utils\\_validation.py:638: FutureWarning: Pass sampling_strategy=0.9 as keyword args. From version 0.9 passing these as positional arguments will result in an error\n",
      "  FutureWarning)\n"
     ]
    }
   ],
   "source": [
    "smote = SMOTETomek(0.9)\n",
    "X, y = smote.fit_sample(X, y)"
   ]
  },
  {
   "cell_type": "code",
   "execution_count": 23,
   "metadata": {},
   "outputs": [
    {
     "data": {
      "text/plain": [
       "0    22169\n",
       "1    19903\n",
       "Name: Income, dtype: int64"
      ]
     },
     "execution_count": 23,
     "metadata": {},
     "output_type": "execute_result"
    }
   ],
   "source": [
    "y.value_counts()"
   ]
  },
  {
   "cell_type": "code",
   "execution_count": 24,
   "metadata": {
    "colab": {
     "base_uri": "https://localhost:8080/"
    },
    "executionInfo": {
     "elapsed": 5122,
     "status": "ok",
     "timestamp": 1612510773366,
     "user": {
      "displayName": "chetann sagathiya",
      "photoUrl": "https://lh3.googleusercontent.com/a-/AOh14GjG4uDDwdiEv3-kZr3_VvWsmzHo5UYKMPwvSxoA=s64",
      "userId": "07452161564351181635"
     },
     "user_tz": -330
    },
    "id": "AEVLjwcMgzf_",
    "outputId": "de1ea95d-8c19-491c-e356-5d7288c262b4"
   },
   "outputs": [
    {
     "name": "stdout",
     "output_type": "stream",
     "text": [
      "(42072, 35)\n"
     ]
    }
   ],
   "source": [
    "print(X.shape)\n",
    "X = pd.DataFrame(data=X, columns=X.columns)"
   ]
  },
  {
   "cell_type": "markdown",
   "metadata": {
    "id": "TLTo3LSygzf7"
   },
   "source": [
    "## Doing train_test_split"
   ]
  },
  {
   "cell_type": "code",
   "execution_count": 25,
   "metadata": {
    "executionInfo": {
     "elapsed": 3537,
     "status": "ok",
     "timestamp": 1612510770223,
     "user": {
      "displayName": "chetann sagathiya",
      "photoUrl": "https://lh3.googleusercontent.com/a-/AOh14GjG4uDDwdiEv3-kZr3_VvWsmzHo5UYKMPwvSxoA=s64",
      "userId": "07452161564351181635"
     },
     "user_tz": -330
    },
    "id": "vr1nf0J7gzf7"
   },
   "outputs": [],
   "source": [
    "from sklearn.model_selection import train_test_split\n",
    "X_train, X_test, y_train, y_test = train_test_split(X, y, test_size=0.25, random_state=0)"
   ]
  },
  {
   "cell_type": "code",
   "execution_count": 5,
   "metadata": {
    "executionInfo": {
     "elapsed": 1020,
     "status": "ok",
     "timestamp": 1612513733679,
     "user": {
      "displayName": "chetann sagathiya",
      "photoUrl": "https://lh3.googleusercontent.com/a-/AOh14GjG4uDDwdiEv3-kZr3_VvWsmzHo5UYKMPwvSxoA=s64",
      "userId": "07452161564351181635"
     },
     "user_tz": -330
    },
    "id": "EqL2NhS1SORc"
   },
   "outputs": [],
   "source": [
    "from sklearn.metrics import accuracy_score, confusion_matrix, classification_report"
   ]
  },
  {
   "cell_type": "markdown",
   "metadata": {},
   "source": [
    "## Implementing RandomForest"
   ]
  },
  {
   "cell_type": "code",
   "execution_count": 28,
   "metadata": {},
   "outputs": [],
   "source": [
    "from sklearn.ensemble import RandomForestClassifier\n",
    "from sklearn.model_selection import RandomizedSearchCV"
   ]
  },
  {
   "cell_type": "code",
   "execution_count": 29,
   "metadata": {},
   "outputs": [],
   "source": [
    "forest = RandomForestClassifier()"
   ]
  },
  {
   "cell_type": "code",
   "execution_count": 30,
   "metadata": {},
   "outputs": [],
   "source": [
    "forest_grid_params = {'max_depth': [10, 20, 30, 40, 50, 60, 70, 80, 90, 100, None],\n",
    "                     'min_samples_split': [x for x in range(2,5)],\n",
    "                     'max_leaf_nodes': [2, 3, 4, None],\n",
    "                     'min_samples_leaf': [x for x in range(1,5)],\n",
    "                     'n_estimators' : [90, 100, 110, 120, 130,140, 150, 160, 170, 180, 190, 200],\n",
    "                     }"
   ]
  },
  {
   "cell_type": "code",
   "execution_count": 31,
   "metadata": {},
   "outputs": [],
   "source": [
    "forest_cv = RandomizedSearchCV(forest, forest_grid_params,n_iter=400, n_jobs=-1, cv=5, verbose=2)"
   ]
  },
  {
   "cell_type": "code",
   "execution_count": 32,
   "metadata": {},
   "outputs": [
    {
     "name": "stdout",
     "output_type": "stream",
     "text": [
      "Fitting 5 folds for each of 400 candidates, totalling 2000 fits\n"
     ]
    },
    {
     "name": "stderr",
     "output_type": "stream",
     "text": [
      "[Parallel(n_jobs=-1)]: Using backend LokyBackend with 2 concurrent workers.\n",
      "[Parallel(n_jobs=-1)]: Done  37 tasks      | elapsed:  2.3min\n",
      "[Parallel(n_jobs=-1)]: Done 158 tasks      | elapsed:  9.3min\n",
      "[Parallel(n_jobs=-1)]: Done 361 tasks      | elapsed: 18.0min\n",
      "[Parallel(n_jobs=-1)]: Done 644 tasks      | elapsed: 29.6min\n",
      "[Parallel(n_jobs=-1)]: Done 1009 tasks      | elapsed: 47.9min\n",
      "[Parallel(n_jobs=-1)]: Done 1454 tasks      | elapsed: 70.6min\n",
      "[Parallel(n_jobs=-1)]: Done 1981 tasks      | elapsed: 92.2min\n",
      "[Parallel(n_jobs=-1)]: Done 2000 out of 2000 | elapsed: 93.2min finished\n"
     ]
    },
    {
     "data": {
      "text/plain": [
       "RandomizedSearchCV(cv=5, estimator=RandomForestClassifier(), n_iter=400,\n",
       "                   n_jobs=-1,\n",
       "                   param_distributions={'max_depth': [10, 20, 30, 40, 50, 60,\n",
       "                                                      70, 80, 90, 100, None],\n",
       "                                        'max_leaf_nodes': [2, 3, 4, None],\n",
       "                                        'min_samples_leaf': [1, 2, 3, 4],\n",
       "                                        'min_samples_split': [2, 3, 4],\n",
       "                                        'n_estimators': [90, 100, 110, 120, 130,\n",
       "                                                         140, 150, 160, 170,\n",
       "                                                         180, 190, 200]},\n",
       "                   verbose=2)"
      ]
     },
     "execution_count": 32,
     "metadata": {},
     "output_type": "execute_result"
    }
   ],
   "source": [
    "forest_cv.fit(X_train, y_train)"
   ]
  },
  {
   "cell_type": "code",
   "execution_count": 33,
   "metadata": {},
   "outputs": [
    {
     "data": {
      "text/plain": [
       "0.8723177124858121"
      ]
     },
     "execution_count": 33,
     "metadata": {},
     "output_type": "execute_result"
    }
   ],
   "source": [
    "forest_cv.best_score_"
   ]
  },
  {
   "cell_type": "code",
   "execution_count": 34,
   "metadata": {},
   "outputs": [
    {
     "data": {
      "text/plain": [
       "RandomForestClassifier(min_samples_leaf=2, n_estimators=190)"
      ]
     },
     "execution_count": 34,
     "metadata": {},
     "output_type": "execute_result"
    }
   ],
   "source": [
    "forest_cv.best_estimator_"
   ]
  },
  {
   "cell_type": "code",
   "execution_count": 35,
   "metadata": {},
   "outputs": [],
   "source": [
    "forest = RandomForestClassifier(min_samples_leaf=2, n_estimators=190)"
   ]
  },
  {
   "cell_type": "code",
   "execution_count": 36,
   "metadata": {},
   "outputs": [
    {
     "data": {
      "text/plain": [
       "RandomForestClassifier(min_samples_leaf=2, n_estimators=190)"
      ]
     },
     "execution_count": 36,
     "metadata": {},
     "output_type": "execute_result"
    }
   ],
   "source": [
    "forest.fit(X_train, y_train)"
   ]
  },
  {
   "cell_type": "code",
   "execution_count": 37,
   "metadata": {},
   "outputs": [],
   "source": [
    "forest_y_predicted = forest.predict(X_test)"
   ]
  },
  {
   "cell_type": "code",
   "execution_count": 40,
   "metadata": {},
   "outputs": [
    {
     "data": {
      "text/plain": [
       "0.8721990125332321"
      ]
     },
     "execution_count": 40,
     "metadata": {},
     "output_type": "execute_result"
    }
   ],
   "source": [
    "sc = accuracy_score(y_test, forest_y_predicted)\n",
    "sc"
   ]
  },
  {
   "cell_type": "code",
   "execution_count": 29,
   "metadata": {},
   "outputs": [
    {
     "data": {
      "text/plain": [
       "array([[4889,  596],\n",
       "       [ 503, 4530]], dtype=int64)"
      ]
     },
     "execution_count": 29,
     "metadata": {},
     "output_type": "execute_result"
    }
   ],
   "source": [
    "confusion_matrix(y_test, forest_y_predicted)"
   ]
  },
  {
   "cell_type": "code",
   "execution_count": 27,
   "metadata": {},
   "outputs": [
    {
     "name": "stdout",
     "output_type": "stream",
     "text": [
      "              precision    recall  f1-score   support\n",
      "\n",
      "           0       0.91      0.89      0.90      5485\n",
      "           1       0.88      0.90      0.89      5033\n",
      "\n",
      "    accuracy                           0.90     10518\n",
      "   macro avg       0.90      0.90      0.90     10518\n",
      "weighted avg       0.90      0.90      0.90     10518\n",
      "\n"
     ]
    }
   ],
   "source": [
    "print(classification_report(y_test, forest_y_predicted))"
   ]
  },
  {
   "cell_type": "code",
   "execution_count": 42,
   "metadata": {},
   "outputs": [],
   "source": [
    "Pkl_Filename = \"Income_Model_Random_Forest.pkl\"  \n",
    "\n",
    "with open(Pkl_Filename, 'wb') as file:  \n",
    "    pickle.dump(forest, file)"
   ]
  },
  {
   "cell_type": "code",
   "execution_count": 2,
   "metadata": {},
   "outputs": [],
   "source": [
    "import pickle\n",
    "model = pickle.load(open(\"Income_Model_Random_Forest.pkl\", \"rb\"))"
   ]
  },
  {
   "cell_type": "code",
   "execution_count": 7,
   "metadata": {},
   "outputs": [
    {
     "data": {
      "text/plain": [
       "array([0], dtype=int64)"
      ]
     },
     "execution_count": 7,
     "metadata": {},
     "output_type": "execute_result"
    }
   ],
   "source": [
    "predicted = model.predict([[40,9,9,40,0,1,0,0,0,0,0,1,0,0,0,0,0,1,0,0,0,0,0,0,0,0,0,0,0,0,1,0,0,0,0]])\n",
    "predicted"
   ]
  },
  {
   "cell_type": "code",
   "execution_count": null,
   "metadata": {},
   "outputs": [],
   "source": []
  }
 ],
 "metadata": {
  "accelerator": "GPU",
  "colab": {
   "collapsed_sections": [],
   "name": "income-prediction.ipynb",
   "provenance": [],
   "toc_visible": true
  },
  "kernelspec": {
   "display_name": "Python 3",
   "language": "python",
   "name": "python3"
  },
  "language_info": {
   "codemirror_mode": {
    "name": "ipython",
    "version": 3
   },
   "file_extension": ".py",
   "mimetype": "text/x-python",
   "name": "python",
   "nbconvert_exporter": "python",
   "pygments_lexer": "ipython3",
   "version": "3.7.4"
  }
 },
 "nbformat": 4,
 "nbformat_minor": 1
}
